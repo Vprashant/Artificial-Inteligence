{
 "cells": [
  {
   "cell_type": "code",
   "execution_count": 10,
   "metadata": {},
   "outputs": [
    {
     "name": "stdout",
     "output_type": "stream",
     "text": [
      "tf.Tensor([[4.]], shape=(1, 1), dtype=float64)\n",
      "tf.Tensor(\n",
      "[[0. 0. 0.]\n",
      " [0. 0. 0.]\n",
      " [0. 0. 0.]], shape=(3, 3), dtype=float32)\n",
      "tf.Tensor(\n",
      "[[ 0.55593085  0.41154915  1.1344503 ]\n",
      " [-1.250229    1.3402162   0.30849996]\n",
      " [-1.1662678   1.0166917  -0.12748164]], shape=(3, 3), dtype=float32)\n",
      "tf.Tensor([1 3 5 7 9], shape=(5,), dtype=int32)\n",
      "tf.Tensor(\n",
      "[[ 0.55593085  0.41154915  1.1344503 ]\n",
      " [-1.250229    1.3402162   0.30849996]\n",
      " [-1.1662678   1.0166917  -0.12748164]], shape=(3, 3), dtype=float32)\n"
     ]
    },
    {
     "data": {
      "text/plain": [
       "'2.4.1'"
      ]
     },
     "execution_count": 10,
     "metadata": {},
     "output_type": "execute_result"
    }
   ],
   "source": [
    "import tensorflow as tf\n",
    "# Three Data Type\n",
    "# Constant, Variable, Placeholder\n",
    "# Initialization of the tensor\n",
    "x = tf.constant(4, shape =(1,1), dtype = tf.float64)\n",
    "a = tf.constant([[1,2,3], [2,4,5]])\n",
    "print(x)\n",
    "\n",
    "c = tf.zeros((3,3))\n",
    "print(c)\n",
    "d = tf.ones((2,3))\n",
    "e = tf.eye(3) # Identical matrix \n",
    "\n",
    "# random \n",
    "f = tf.random.normal((3,3), mean =0, stddev= 1)\n",
    "print(f)\n",
    "g = tf.random.uniform((1, 3), minval = 0, maxval =1)\n",
    "h = tf.range(start=1, limit=10, delta= 2)\n",
    "print(h)\n",
    "i = tf.cast(x, dtype=tf.float64)\n",
    "print(f)\n",
    "\n",
    "tf.__version__\n"
   ]
  }
 ],
 "metadata": {
  "kernelspec": {
   "display_name": "Python 3",
   "language": "python",
   "name": "python3"
  },
  "language_info": {
   "codemirror_mode": {
    "name": "ipython",
    "version": 3
   },
   "file_extension": ".py",
   "mimetype": "text/x-python",
   "name": "python",
   "nbconvert_exporter": "python",
   "pygments_lexer": "ipython3",
   "version": "3.7.4"
  }
 },
 "nbformat": 4,
 "nbformat_minor": 2
}
